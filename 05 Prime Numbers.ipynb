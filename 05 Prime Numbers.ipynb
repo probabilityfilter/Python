{
 "cells": [
  {
   "cell_type": "markdown",
   "metadata": {},
   "source": [
    "# Detecting a prime number"
   ]
  },
  {
   "cell_type": "code",
   "execution_count": 13,
   "metadata": {
    "collapsed": true
   },
   "outputs": [],
   "source": [
    "import time"
   ]
  },
  {
   "cell_type": "markdown",
   "metadata": {},
   "source": [
    "## v1"
   ]
  },
  {
   "cell_type": "code",
   "execution_count": 33,
   "metadata": {},
   "outputs": [],
   "source": [
    "def is_prime(n):\n",
    "    \"\"\"Return True if 'n' is prime, otherwise False\"\"\"\n",
    "    for i in range(2,n):\n",
    "        if n%i == 0:\n",
    "           return False\n",
    "    return True"
   ]
  },
  {
   "cell_type": "code",
   "execution_count": 31,
   "metadata": {},
   "outputs": [
    {
     "name": "stdout",
     "output_type": "stream",
     "text": [
      "1 True\n",
      "2 True\n",
      "3 True\n",
      "4 False\n",
      "5 True\n",
      "6 False\n",
      "7 True\n",
      "8 False\n",
      "9 False\n",
      "10 False\n",
      "11 True\n",
      "12 False\n",
      "13 True\n",
      "14 False\n",
      "15 False\n",
      "16 False\n",
      "17 True\n",
      "18 False\n",
      "19 True\n",
      "20 False\n"
     ]
    }
   ],
   "source": [
    "for nn in range(1,21):\n",
    "    print(nn,is_prime(nn))"
   ]
  },
  {
   "cell_type": "code",
   "execution_count": 32,
   "metadata": {
    "scrolled": true
   },
   "outputs": [
    {
     "name": "stdout",
     "output_type": "stream",
     "text": [
      "Time required = 26.57545042037964\n"
     ]
    }
   ],
   "source": [
    "t0 = time.time()\n",
    "for n in range(1,100000):\n",
    "    is_prime(n)\n",
    "t1 = time.time()\n",
    "print(\"Time required =\",t1-t0)"
   ]
  },
  {
   "cell_type": "markdown",
   "metadata": {},
   "source": [
    "## v2"
   ]
  },
  {
   "cell_type": "code",
   "execution_count": 34,
   "metadata": {
    "collapsed": true
   },
   "outputs": [],
   "source": [
    "import math\n",
    "def is_prime_v2(n):\n",
    "    \"\"\"Return True if 'n' is prime, otherwise False\"\"\"\n",
    "    for i in range(2,1+math.floor(math.sqrt(n))):\n",
    "        if n%i == 0:\n",
    "           return False\n",
    "    return True"
   ]
  },
  {
   "cell_type": "code",
   "execution_count": 44,
   "metadata": {},
   "outputs": [
    {
     "name": "stdout",
     "output_type": "stream",
     "text": [
      "1 True\n",
      "2 True\n",
      "3 True\n",
      "4 False\n",
      "5 True\n",
      "6 False\n",
      "7 True\n",
      "8 False\n",
      "9 False\n",
      "10 False\n",
      "11 True\n",
      "12 False\n",
      "13 True\n",
      "14 False\n",
      "15 False\n",
      "16 False\n",
      "17 True\n",
      "18 False\n",
      "19 True\n",
      "20 False\n"
     ]
    }
   ],
   "source": [
    "for nn in range(1,21):\n",
    "    print(nn,is_prime_v2(nn))"
   ]
  },
  {
   "cell_type": "code",
   "execution_count": 37,
   "metadata": {},
   "outputs": [
    {
     "name": "stdout",
     "output_type": "stream",
     "text": [
      "Time required = 0.21220946311950684\n"
     ]
    }
   ],
   "source": [
    "t0 = time.time()\n",
    "for n in range(1,100000):\n",
    "    is_prime_v2(n)\n",
    "t1 = time.time()\n",
    "print(\"Time required =\",t1-t0)"
   ]
  },
  {
   "cell_type": "markdown",
   "metadata": {},
   "source": [
    "## v3"
   ]
  },
  {
   "cell_type": "code",
   "execution_count": 41,
   "metadata": {
    "collapsed": true
   },
   "outputs": [],
   "source": [
    "def is_prime_v3(n):\n",
    "    \"\"\"Return True if 'n' is prime, otherwise False\"\"\"\n",
    "    if n==1:\n",
    "        return False\n",
    "    if n==2:\n",
    "        return True\n",
    "    if n>2 and n%2==0:\n",
    "        return False\n",
    "    \n",
    "    for i in range(3,1+math.floor(math.sqrt(n)),2):\n",
    "        if n%i == 0:\n",
    "           return False\n",
    "    return True"
   ]
  },
  {
   "cell_type": "code",
   "execution_count": 45,
   "metadata": {},
   "outputs": [
    {
     "name": "stdout",
     "output_type": "stream",
     "text": [
      "1 False\n",
      "2 True\n",
      "3 True\n",
      "4 False\n",
      "5 True\n",
      "6 False\n",
      "7 True\n",
      "8 False\n",
      "9 False\n",
      "10 False\n",
      "11 True\n",
      "12 False\n",
      "13 True\n",
      "14 False\n",
      "15 False\n",
      "16 False\n",
      "17 True\n",
      "18 False\n",
      "19 True\n",
      "20 False\n"
     ]
    }
   ],
   "source": [
    "for nn in range(1,21):\n",
    "    print(nn,is_prime_v3(nn))"
   ]
  },
  {
   "cell_type": "code",
   "execution_count": 46,
   "metadata": {},
   "outputs": [
    {
     "name": "stdout",
     "output_type": "stream",
     "text": [
      "Time required = 0.12749028205871582\n"
     ]
    }
   ],
   "source": [
    "t0 = time.time()\n",
    "for n in range(1,100000):\n",
    "    is_prime_v3(n)\n",
    "t1 = time.time()\n",
    "print(\"Time required =\",t1-t0)"
   ]
  }
 ],
 "metadata": {
  "kernelspec": {
   "display_name": "Python 3",
   "language": "python",
   "name": "python3"
  },
  "language_info": {
   "codemirror_mode": {
    "name": "ipython",
    "version": 3
   },
   "file_extension": ".py",
   "mimetype": "text/x-python",
   "name": "python",
   "nbconvert_exporter": "python",
   "pygments_lexer": "ipython3",
   "version": "3.6.1"
  }
 },
 "nbformat": 4,
 "nbformat_minor": 2
}
