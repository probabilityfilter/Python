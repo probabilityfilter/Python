{
 "cells": [
  {
   "cell_type": "markdown",
   "metadata": {},
   "source": [
    "# Recursion and Fibonacci"
   ]
  },
  {
   "cell_type": "code",
   "execution_count": 1,
   "metadata": {
    "collapsed": true
   },
   "outputs": [],
   "source": [
    "def fib(n):\n",
    "    if n==1 or n==2:\n",
    "        return 1\n",
    "    else:\n",
    "        return fib(n-1) + fib(n-2)"
   ]
  },
  {
   "cell_type": "code",
   "execution_count": 9,
   "metadata": {},
   "outputs": [
    {
     "name": "stdout",
     "output_type": "stream",
     "text": [
      "1 th Fibonacci =  1\n",
      "2 th Fibonacci =  1\n",
      "3 th Fibonacci =  2\n",
      "4 th Fibonacci =  3\n",
      "5 th Fibonacci =  5\n",
      "6 th Fibonacci =  8\n",
      "7 th Fibonacci =  13\n",
      "8 th Fibonacci =  21\n",
      "9 th Fibonacci =  34\n",
      "10 th Fibonacci =  55\n"
     ]
    }
   ],
   "source": [
    "for n in range(1,11):\n",
    "    print(n, \"th Fibonacci = \", fib(n))"
   ]
  },
  {
   "cell_type": "code",
   "execution_count": 10,
   "metadata": {
    "collapsed": true
   },
   "outputs": [],
   "source": [
    "# Slows down beyond n=33"
   ]
  },
  {
   "cell_type": "code",
   "execution_count": 24,
   "metadata": {
    "collapsed": true
   },
   "outputs": [],
   "source": [
    "fib_cache = {}\n",
    "def fib_fast(n):\n",
    "    if type(n) != int:\n",
    "        raise TypeError(\"ra ta ta\")\n",
    "    # If already cached then return it instead of calculating\n",
    "    if n in fib_cache:\n",
    "        return fib_cache[n]\n",
    "    elif n==1 or n==2:\n",
    "        value = (1)\n",
    "    else:\n",
    "        value = fib_fast(n-1) + fib_fast(n-2)\n",
    "    \n",
    "    fib_cache[n] = value #Store value in cache then return it\n",
    "    return value"
   ]
  },
  {
   "cell_type": "code",
   "execution_count": 21,
   "metadata": {},
   "outputs": [
    {
     "name": "stdout",
     "output_type": "stream",
     "text": [
      "1.0\n",
      "2.0\n",
      "1.5\n",
      "1.6666666666666667\n",
      "1.6\n",
      "1.625\n",
      "1.6153846153846154\n",
      "1.619047619047619\n",
      "1.6176470588235294\n",
      "1.6181818181818182\n",
      "1.6179775280898876\n",
      "1.6180555555555556\n",
      "1.6180257510729614\n",
      "1.6180371352785146\n",
      "1.618032786885246\n",
      "1.618034447821682\n",
      "1.6180338134001253\n",
      "1.618034055727554\n",
      "1.6180339631667064\n",
      "1.6180339985218033\n",
      "1.618033985017358\n",
      "1.6180339901755971\n",
      "1.618033988205325\n",
      "1.618033988957902\n",
      "1.6180339886704431\n",
      "1.6180339887802426\n",
      "1.618033988738303\n",
      "1.6180339887543225\n",
      "1.6180339887482036\n",
      "1.6180339887505408\n",
      "1.6180339887496482\n",
      "1.618033988749989\n",
      "1.618033988749859\n",
      "1.6180339887499087\n",
      "1.6180339887498896\n",
      "1.618033988749897\n",
      "1.618033988749894\n",
      "1.6180339887498951\n",
      "1.6180339887498947\n",
      "1.618033988749895\n",
      "1.618033988749895\n",
      "1.618033988749895\n",
      "1.618033988749895\n",
      "1.618033988749895\n",
      "1.618033988749895\n",
      "1.618033988749895\n",
      "1.618033988749895\n",
      "1.618033988749895\n",
      "1.618033988749895\n",
      "1.618033988749895\n",
      "1.618033988749895\n",
      "1.618033988749895\n",
      "1.618033988749895\n",
      "1.618033988749895\n",
      "1.618033988749895\n",
      "1.618033988749895\n",
      "1.618033988749895\n",
      "1.618033988749895\n",
      "1.618033988749895\n",
      "1.618033988749895\n",
      "1.618033988749895\n",
      "1.618033988749895\n",
      "1.618033988749895\n",
      "1.618033988749895\n",
      "1.618033988749895\n",
      "1.618033988749895\n",
      "1.618033988749895\n",
      "1.618033988749895\n",
      "1.618033988749895\n",
      "1.618033988749895\n",
      "1.618033988749895\n",
      "1.618033988749895\n",
      "1.618033988749895\n",
      "1.618033988749895\n",
      "1.618033988749895\n",
      "1.618033988749895\n",
      "1.618033988749895\n",
      "1.618033988749895\n",
      "1.618033988749895\n",
      "1.618033988749895\n",
      "1.618033988749895\n",
      "1.618033988749895\n",
      "1.618033988749895\n",
      "1.618033988749895\n",
      "1.618033988749895\n",
      "1.618033988749895\n",
      "1.618033988749895\n",
      "1.618033988749895\n",
      "1.618033988749895\n",
      "1.618033988749895\n",
      "1.618033988749895\n",
      "1.618033988749895\n",
      "1.618033988749895\n",
      "1.618033988749895\n",
      "1.618033988749895\n",
      "1.618033988749895\n",
      "1.618033988749895\n",
      "1.618033988749895\n",
      "1.618033988749895\n",
      "1.618033988749895\n"
     ]
    }
   ],
   "source": [
    "for n in range(1,101):\n",
    "    #print(n, \"th Fibonacci = \", fib_fast(n))\n",
    "    print(fib_fast(n+1)/fib_fast(n))"
   ]
  },
  {
   "cell_type": "code",
   "execution_count": 26,
   "metadata": {},
   "outputs": [
    {
     "ename": "TypeError",
     "evalue": "ra ta ta",
     "output_type": "error",
     "traceback": [
      "\u001b[1;31m---------------------------------------------------------------------------\u001b[0m",
      "\u001b[1;31mTypeError\u001b[0m                                 Traceback (most recent call last)",
      "\u001b[1;32m<ipython-input-26-421e617931f3>\u001b[0m in \u001b[0;36m<module>\u001b[1;34m()\u001b[0m\n\u001b[1;32m----> 1\u001b[1;33m \u001b[0mfib_fast\u001b[0m\u001b[1;33m(\u001b[0m\u001b[1;36m5.5\u001b[0m\u001b[1;33m)\u001b[0m\u001b[1;33m\u001b[0m\u001b[0m\n\u001b[0m",
      "\u001b[1;32m<ipython-input-24-2a0d6b7fa49b>\u001b[0m in \u001b[0;36mfib_fast\u001b[1;34m(n)\u001b[0m\n\u001b[0;32m      2\u001b[0m \u001b[1;32mdef\u001b[0m \u001b[0mfib_fast\u001b[0m\u001b[1;33m(\u001b[0m\u001b[0mn\u001b[0m\u001b[1;33m)\u001b[0m\u001b[1;33m:\u001b[0m\u001b[1;33m\u001b[0m\u001b[0m\n\u001b[0;32m      3\u001b[0m     \u001b[1;32mif\u001b[0m \u001b[0mtype\u001b[0m\u001b[1;33m(\u001b[0m\u001b[0mn\u001b[0m\u001b[1;33m)\u001b[0m \u001b[1;33m!=\u001b[0m \u001b[0mint\u001b[0m\u001b[1;33m:\u001b[0m\u001b[1;33m\u001b[0m\u001b[0m\n\u001b[1;32m----> 4\u001b[1;33m         \u001b[1;32mraise\u001b[0m \u001b[0mTypeError\u001b[0m\u001b[1;33m(\u001b[0m\u001b[1;34m\"ra ta ta\"\u001b[0m\u001b[1;33m)\u001b[0m\u001b[1;33m\u001b[0m\u001b[0m\n\u001b[0m\u001b[0;32m      5\u001b[0m     \u001b[1;31m# If already cached then return it instead of calculating\u001b[0m\u001b[1;33m\u001b[0m\u001b[1;33m\u001b[0m\u001b[0m\n\u001b[0;32m      6\u001b[0m     \u001b[1;32mif\u001b[0m \u001b[0mn\u001b[0m \u001b[1;32min\u001b[0m \u001b[0mfib_cache\u001b[0m\u001b[1;33m:\u001b[0m\u001b[1;33m\u001b[0m\u001b[0m\n",
      "\u001b[1;31mTypeError\u001b[0m: ra ta ta"
     ]
    }
   ],
   "source": [
    "fib_fast(5.5)"
   ]
  }
 ],
 "metadata": {
  "kernelspec": {
   "display_name": "Python 3",
   "language": "python",
   "name": "python3"
  },
  "language_info": {
   "codemirror_mode": {
    "name": "ipython",
    "version": 3
   },
   "file_extension": ".py",
   "mimetype": "text/x-python",
   "name": "python",
   "nbconvert_exporter": "python",
   "pygments_lexer": "ipython3",
   "version": "3.6.1"
  }
 },
 "nbformat": 4,
 "nbformat_minor": 2
}
